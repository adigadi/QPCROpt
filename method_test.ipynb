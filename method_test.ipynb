{
 "cells": [
  {
   "cell_type": "code",
   "execution_count": 7,
   "metadata": {},
   "outputs": [],
   "source": [
    "import os\n",
    "import fnmatch\n",
    "import numpy as np\n",
    "import pandas as pd\n",
    "from sklearn.ensemble import RandomForestRegressor"
   ]
  },
  {
   "cell_type": "code",
   "execution_count": 81,
   "metadata": {},
   "outputs": [],
   "source": [
    "def find_qPCR_file():\n",
    "    for filename in os.listdir('.'):\n",
    "        if fnmatch.fnmatch(filename, '*Results*.xls'):\n",
    "            return filename"
   ]
  },
  {
   "cell_type": "code",
   "execution_count": 86,
   "metadata": {},
   "outputs": [],
   "source": [
    "def read_qPCR_file(qPCR_filename):\n",
    "    raw_df = pd.read_excel(qPCR_filename)\n",
    "    raw_df.columns = raw_df.iloc[39,:].values.flatten().tolist()\n",
    "    df = raw_df.iloc[40:,:]\n",
    "    qPCR_df = df[['Well Position', 'CT', 'Ct Mean']].copy()\n",
    "    qPCR_df.columns = ['well', 'ct', 'mean_ct']\n",
    "    return qPCR_df"
   ]
  },
  {
   "cell_type": "code",
   "execution_count": 87,
   "metadata": {},
   "outputs": [],
   "source": [
    "def write_qPCR_output(filename):\n",
    "    qPCR_filename = find_qPCR_file()\n",
    "    qPCR_df = read_qPCR_file(qPCR_filename)\n",
    "    qPCR_df.to_csv(filename, index=False)"
   ]
  },
  {
   "cell_type": "code",
   "execution_count": 88,
   "metadata": {},
   "outputs": [],
   "source": [
    "write_qPCR_output(\"qPCR_output.txt\")\n",
    "#info: well postion, ct, mean ct for selected wells\n",
    "#format: Well Position, CT, Ct Mean"
   ]
  },
  {
   "cell_type": "code",
   "execution_count": null,
   "metadata": {},
   "outputs": [],
   "source": [
    "def setTrueCt(query_df, qPCR_df):\n",
    "    trueCT_values = qPCR_df[\"CT \"]"
   ]
  },
  {
   "cell_type": "code",
   "execution_count": 2,
   "metadata": {},
   "outputs": [],
   "source": [
    "#query file: index, content\n",
    "#observed: dataframe\n",
    "#qPCROutput: not Known\n",
    "#replicates = 8 for this experiment\n",
    "def update_observed_file(observed_filename, query_filename, qPCR_filename, replicates):\n",
    "    observed = pd.read_csv(observed_filename)\n",
    "    query = pd.read_csv(query_filename)\n",
    "    qPCR = pd.read_csv(qPCR_filename)\n",
    "    \n",
    "    query[\"TrueCt\"] = setTrueCt(query, qPCR)\n",
    "    observed = pd.concat([observed, query], ignore_index=True)\n",
    "    observed.to_csv(observed_filename, index = False)\n"
   ]
  },
  {
   "cell_type": "code",
   "execution_count": 3,
   "metadata": {},
   "outputs": [],
   "source": [
    "def update_unobserved_file(unobserved_filename, query_filename):\n",
    "    # query.txt = the first column will have the index with respect to the unobserved.csv\n",
    "    unobserved = pd.read_csv(unobserved_filename)\n",
    "    query_index = pd.read_csv(query_filename).iloc[:,0].to_numpy()\n",
    "    unobserved.drop(labels = query_index, axis = 0, inplace = True)\n",
    "    unobserved.to_csv(unobserved_filename, index = True)\n"
   ]
  },
  {
   "cell_type": "code",
   "execution_count": 4,
   "metadata": {},
   "outputs": [],
   "source": [
    "\n",
    "#read observed.csv\n",
    "# return the uncertainty of each unobserved data\n",
    "def get_query_index(observed_file, unobserved_file, batch_size):\n",
    "    most_uncertain = []\n",
    "    unobserved = pd.read_csv(unobserved_file)\n",
    "    observed = pd.read_csv(observed_file)\n",
    "    X, y = observed[[\"fwdGC\", \"revGC\"]], observed[\"Ct\"]\n",
    "    reg = RandomForestRegressor(n_estimators=3,random_state=0)\n",
    "    reg.fit(X,y ) #observed\n",
    "    # find the most uncertain\n",
    "    outputs = []\n",
    "    for estimator in reg.estimators_:\n",
    "        outputs.append(estimator.predict(unobserved[[\"fwdGC\", \"revGC\"]])) #unobserved\n",
    "    stds = np.std(outputs, axis=0)\n",
    "    for i in range(batch_size):\n",
    "        max_index = int(np.argmax(stds))\n",
    "        most_uncertain.append(max_index)\n",
    "        stds[max_index] = -1\n",
    "    return most_uncertain\n"
   ]
  },
  {
   "cell_type": "code",
   "execution_count": 5,
   "metadata": {},
   "outputs": [],
   "source": [
    "def write_query_file(output_filename, observed_file, unobserved_file, batch_size):\n",
    "    #  batch 3 parameter set (samples) for us to \"query.txt\"\n",
    "    query_index = get_query_index(observed_file, unobserved_file, batch_size)\n",
    "    unobserved = pd.read_csv(unobserved_file)\n",
    "    toWrite = unobserved.iloc[query_index, :].to_csv(index = True)\n",
    "    with open(output_filename, \"w\") as f:\n",
    "        f.write(toWrite)\n",
    "        f.close()\n",
    "    return toWrite\n"
   ]
  },
  {
   "cell_type": "code",
   "execution_count": null,
   "metadata": {},
   "outputs": [],
   "source": []
  }
 ],
 "metadata": {
  "kernelspec": {
   "display_name": "Python 3",
   "language": "python",
   "name": "python3"
  },
  "language_info": {
   "codemirror_mode": {
    "name": "ipython",
    "version": 3
   },
   "file_extension": ".py",
   "mimetype": "text/x-python",
   "name": "python",
   "nbconvert_exporter": "python",
   "pygments_lexer": "ipython3",
   "version": "3.8.5"
  }
 },
 "nbformat": 4,
 "nbformat_minor": 4
}
