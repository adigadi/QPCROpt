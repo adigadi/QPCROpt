{
 "cells": [
  {
   "cell_type": "code",
   "execution_count": 1,
   "metadata": {},
   "outputs": [],
   "source": [
    "import os\n",
    "import fnmatch\n",
    "import numpy as np\n",
    "import pandas as pd\n",
    "from random import sample\n",
    "from sklearn.ensemble import RandomForestRegressor"
   ]
  },
  {
   "cell_type": "markdown",
   "metadata": {},
   "source": [
    "### All files that will be fed to Felix should have .csv format"
   ]
  },
  {
   "cell_type": "code",
   "execution_count": 2,
   "metadata": {},
   "outputs": [],
   "source": [
    "#checked\n",
    "def find_qPCR_file():\n",
    "    for filename in os.listdir('.'):\n",
    "        if fnmatch.fnmatch(filename, '*Results*.xls'):\n",
    "            return filename"
   ]
  },
  {
   "cell_type": "code",
   "execution_count": 3,
   "metadata": {},
   "outputs": [],
   "source": [
    "filename = find_qPCR_file()"
   ]
  },
  {
   "cell_type": "code",
   "execution_count": 4,
   "metadata": {},
   "outputs": [
    {
     "data": {
      "text/plain": [
       "'2021-12-01 155008_Results_ViiA7_export.xls'"
      ]
     },
     "execution_count": 4,
     "metadata": {},
     "output_type": "execute_result"
    }
   ],
   "source": [
    "filename"
   ]
  },
  {
   "cell_type": "code",
   "execution_count": 5,
   "metadata": {},
   "outputs": [],
   "source": [
    "#checked\n",
    "def read_qPCR_file(qPCR_filename):\n",
    "    raw_df = pd.read_excel(qPCR_filename)\n",
    "    raw_df.columns = raw_df.iloc[39,:].values.flatten().tolist()\n",
    "    df = raw_df.iloc[40:,:]\n",
    "    qPCR_df = df[['Well Position', 'CT', 'Ct Mean']].copy()\n",
    "    qPCR_df.columns = ['well', 'ct', 'mean_ct']\n",
    "    return qPCR_df"
   ]
  },
  {
   "cell_type": "code",
   "execution_count": 6,
   "metadata": {},
   "outputs": [],
   "source": [
    "qPCR_df = read_qPCR_file(filename)"
   ]
  },
  {
   "cell_type": "code",
   "execution_count": 7,
   "metadata": {},
   "outputs": [
    {
     "data": {
      "text/html": [
       "<div>\n",
       "<style scoped>\n",
       "    .dataframe tbody tr th:only-of-type {\n",
       "        vertical-align: middle;\n",
       "    }\n",
       "\n",
       "    .dataframe tbody tr th {\n",
       "        vertical-align: top;\n",
       "    }\n",
       "\n",
       "    .dataframe thead th {\n",
       "        text-align: right;\n",
       "    }\n",
       "</style>\n",
       "<table border=\"1\" class=\"dataframe\">\n",
       "  <thead>\n",
       "    <tr style=\"text-align: right;\">\n",
       "      <th></th>\n",
       "      <th>well</th>\n",
       "      <th>ct</th>\n",
       "      <th>mean_ct</th>\n",
       "    </tr>\n",
       "  </thead>\n",
       "  <tbody>\n",
       "    <tr>\n",
       "      <th>40</th>\n",
       "      <td>A1</td>\n",
       "      <td>16.0812</td>\n",
       "      <td>16.2987</td>\n",
       "    </tr>\n",
       "    <tr>\n",
       "      <th>41</th>\n",
       "      <td>A2</td>\n",
       "      <td>16.1566</td>\n",
       "      <td>16.2987</td>\n",
       "    </tr>\n",
       "    <tr>\n",
       "      <th>42</th>\n",
       "      <td>A3</td>\n",
       "      <td>16.6583</td>\n",
       "      <td>16.2987</td>\n",
       "    </tr>\n",
       "    <tr>\n",
       "      <th>43</th>\n",
       "      <td>A4</td>\n",
       "      <td>26.6946</td>\n",
       "      <td>26.3383</td>\n",
       "    </tr>\n",
       "    <tr>\n",
       "      <th>44</th>\n",
       "      <td>A5</td>\n",
       "      <td>Undetermined</td>\n",
       "      <td>26.3383</td>\n",
       "    </tr>\n",
       "    <tr>\n",
       "      <th>45</th>\n",
       "      <td>A6</td>\n",
       "      <td>25.982</td>\n",
       "      <td>26.3383</td>\n",
       "    </tr>\n",
       "    <tr>\n",
       "      <th>46</th>\n",
       "      <td>B1</td>\n",
       "      <td>Undetermined</td>\n",
       "      <td>NaN</td>\n",
       "    </tr>\n",
       "    <tr>\n",
       "      <th>47</th>\n",
       "      <td>B2</td>\n",
       "      <td>Undetermined</td>\n",
       "      <td>NaN</td>\n",
       "    </tr>\n",
       "    <tr>\n",
       "      <th>48</th>\n",
       "      <td>B3</td>\n",
       "      <td>Undetermined</td>\n",
       "      <td>NaN</td>\n",
       "    </tr>\n",
       "    <tr>\n",
       "      <th>49</th>\n",
       "      <td>B4</td>\n",
       "      <td>Undetermined</td>\n",
       "      <td>NaN</td>\n",
       "    </tr>\n",
       "    <tr>\n",
       "      <th>50</th>\n",
       "      <td>B5</td>\n",
       "      <td>Undetermined</td>\n",
       "      <td>NaN</td>\n",
       "    </tr>\n",
       "    <tr>\n",
       "      <th>51</th>\n",
       "      <td>B6</td>\n",
       "      <td>Undetermined</td>\n",
       "      <td>NaN</td>\n",
       "    </tr>\n",
       "  </tbody>\n",
       "</table>\n",
       "</div>"
      ],
      "text/plain": [
       "   well            ct  mean_ct\n",
       "40   A1       16.0812  16.2987\n",
       "41   A2       16.1566  16.2987\n",
       "42   A3       16.6583  16.2987\n",
       "43   A4       26.6946  26.3383\n",
       "44   A5  Undetermined  26.3383\n",
       "45   A6        25.982  26.3383\n",
       "46   B1  Undetermined      NaN\n",
       "47   B2  Undetermined      NaN\n",
       "48   B3  Undetermined      NaN\n",
       "49   B4  Undetermined      NaN\n",
       "50   B5  Undetermined      NaN\n",
       "51   B6  Undetermined      NaN"
      ]
     },
     "execution_count": 7,
     "metadata": {},
     "output_type": "execute_result"
    }
   ],
   "source": [
    "qPCR_df"
   ]
  },
  {
   "cell_type": "code",
   "execution_count": 8,
   "metadata": {},
   "outputs": [],
   "source": [
    "#checked\n",
    "def write_qPCR_output(filename):\n",
    "    qPCR_filename = find_qPCR_file()\n",
    "    qPCR_df = read_qPCR_file(qPCR_filename)\n",
    "    qPCR_df.to_csv(filename, index=False)"
   ]
  },
  {
   "cell_type": "code",
   "execution_count": 9,
   "metadata": {},
   "outputs": [],
   "source": [
    "write_qPCR_output(\"qPCR_output.txt\")\n",
    "#info: well postion, ct, mean ct for selected wells\n",
    "#format: Well Position, CT, Ct Mean"
   ]
  },
  {
   "cell_type": "code",
   "execution_count": 10,
   "metadata": {},
   "outputs": [],
   "source": [
    "#need checking\n",
    "def setTrueCt(query_df, qPCR_df):\n",
    "    trueCT_values = qPCR_df[\"mean_ct\"]\n",
    "    query_df = query_df.join(trueCT_values)\n",
    "    return query_df"
   ]
  },
  {
   "cell_type": "code",
   "execution_count": null,
   "metadata": {},
   "outputs": [],
   "source": []
  },
  {
   "cell_type": "code",
   "execution_count": 11,
   "metadata": {},
   "outputs": [],
   "source": [
    "#query file: index, content\n",
    "#observed: dataframe\n",
    "#qPCROutput: not Known\n",
    "def update_observed_file(observed_filename, query_filename, qPCR_filename, first_run):\n",
    "    if first_run == True:\n",
    "        observed = pd.DataFrame()\n",
    "    else:\n",
    "        observed = pd.read_csv(observed_filename)\n",
    "    query = pd.read_csv(query_filename)\n",
    "    qPCR = pd.read_csv(qPCR_filename)\n",
    "    query_ct = setTrueCt(query, qPCR)\n",
    "    observed = observed.append(query_ct, ignore_index=True)\n",
    "    observed.to_csv(observed_filename, index = False)"
   ]
  },
  {
   "cell_type": "code",
   "execution_count": 12,
   "metadata": {},
   "outputs": [],
   "source": [
    "update_observed_file(\"observed.txt\", \"query.csv\", \"qPCR_output.txt\", False)"
   ]
  },
  {
   "cell_type": "code",
   "execution_count": 13,
   "metadata": {},
   "outputs": [],
   "source": [
    "def update_unobserved_file(unobserved_filename, query_filename):\n",
    "    # query.txt = the first column will have the index with respect to the unobserved.csv\n",
    "    unobserved = pd.read_csv(unobserved_filename)\n",
    "    query_index = pd.read_csv(query_filename).iloc[:,0].to_numpy()\n",
    "    print(query_index)\n",
    "    unobserved.drop(labels = query_index, axis = 0, inplace = True)\n",
    "    unobserved.to_csv(unobserved_filename, index = True)\n"
   ]
  },
  {
   "cell_type": "code",
   "execution_count": 14,
   "metadata": {},
   "outputs": [],
   "source": [
    "\n",
    "#read observed.csv\n",
    "# return the uncertainty of each unobserved data\n",
    "def get_query_index(observed_file, unobserved_file, batch_size, first_run):\n",
    "    \n",
    "    most_uncertain = []\n",
    "    unobserved = pd.read_csv(unobserved_file)\n",
    "    \n",
    "    \n",
    "    if first_run == True: \n",
    "        #random selected seeds\n",
    "        most_uncertain = sample(list(range(len(unobserved))), batch_size)\n",
    "    \n",
    "    else: \n",
    "        #uncertainty sampling\n",
    "        observed = pd.read_csv(observed_file)\n",
    "        X, y = observed[[\"fwdGC\", \"revGC\"]], observed[\"Ct\"]\n",
    "        reg = RandomForestRegressor(n_estimators=3,random_state=0)\n",
    "        reg.fit(X,y ) #observed\n",
    "        # find the most uncertain\n",
    "        outputs = []\n",
    "        for estimator in reg.estimators_:\n",
    "            outputs.append(estimator.predict(unobserved[[\"fwdGC\", \"revGC\"]])) #unobserved\n",
    "        stds = np.std(outputs, axis=0)\n",
    "        for i in range(batch_size):\n",
    "            max_index = int(np.argmax(stds))\n",
    "            most_uncertain.append(max_index)\n",
    "            stds[max_index] = -1\n",
    "            \n",
    "    return most_uncertain\n"
   ]
  },
  {
   "cell_type": "code",
   "execution_count": 15,
   "metadata": {},
   "outputs": [],
   "source": [
    "most_uncertain = get_query_index(\"observed.txt\", \"unobserved.txt\", 12, True)"
   ]
  },
  {
   "cell_type": "code",
   "execution_count": 16,
   "metadata": {},
   "outputs": [
    {
     "data": {
      "text/plain": [
       "[57, 220, 43, 34, 192, 70, 131, 176, 223, 80, 47, 42]"
      ]
     },
     "execution_count": 16,
     "metadata": {},
     "output_type": "execute_result"
    }
   ],
   "source": [
    "most_uncertain"
   ]
  },
  {
   "cell_type": "code",
   "execution_count": 17,
   "metadata": {},
   "outputs": [],
   "source": [
    "#first_run: boolean var -- True if write initial seeds as query, False if write selected batch by uncertainty sampling\n",
    "def write_query_file(output_filename, observed_file, unobserved_file, batch_size, first_run):\n",
    "    #  batch 3 parameter set (samples) for us to \"query.csv\" \n",
    "    query_index = get_query_index(observed_file, unobserved_file, batch_size, first_run)\n",
    "    unobserved = pd.read_csv(unobserved_file)\n",
    "    toWrite = unobserved.iloc[query_index, :].to_csv(index = True)\n",
    "    with open(output_filename, \"w\") as f:\n",
    "        f.write(\"idx\")\n",
    "        f.write(toWrite)\n",
    "        f.close()"
   ]
  },
  {
   "cell_type": "code",
   "execution_count": 18,
   "metadata": {},
   "outputs": [],
   "source": [
    "write_query_file(\"query.csv\", \"observed.txt\", \"unobserved.txt\", 12, True)"
   ]
  },
  {
   "cell_type": "code",
   "execution_count": null,
   "metadata": {},
   "outputs": [],
   "source": []
  }
 ],
 "metadata": {
  "kernelspec": {
   "display_name": "Python 3",
   "language": "python",
   "name": "python3"
  },
  "language_info": {
   "codemirror_mode": {
    "name": "ipython",
    "version": 3
   },
   "file_extension": ".py",
   "mimetype": "text/x-python",
   "name": "python",
   "nbconvert_exporter": "python",
   "pygments_lexer": "ipython3",
   "version": "3.8.5"
  }
 },
 "nbformat": 4,
 "nbformat_minor": 4
}
